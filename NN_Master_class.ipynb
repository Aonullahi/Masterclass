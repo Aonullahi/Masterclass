{
  "nbformat": 4,
  "nbformat_minor": 0,
  "metadata": {
    "colab": {
      "name": "NN-Master class",
      "provenance": []
    },
    "kernelspec": {
      "name": "python3",
      "display_name": "Python 3"
    }
  },
  "cells": [
    {
      "cell_type": "markdown",
      "metadata": {
        "id": "E504L-amKn1k",
        "colab_type": "text"
      },
      "source": [
        "## Master Class in Deep Neural Networks\n",
        "\n",
        "Building a Neural Network from Scratch\n",
        "\n",
        "__Date:__ Friday, 27th March 2020\n",
        "\n",
        "__Time:__ 10am-2pm\n",
        "\n",
        "__Facilitator:__ Rising Odegua, Data Scientist & Researcher, Data Science Nigeria"
      ]
    },
    {
      "cell_type": "markdown",
      "metadata": {
        "id": "j6ufLUp1fTvR",
        "colab_type": "text"
      },
      "source": [
        "## Download and Prepare the Data.\n",
        "[Get Data](https://archive.ics.uci.edu/ml/datasets/Breast+Cancer+Wisconsin+%28Diagnostic%29)\n"
      ]
    },
    {
      "cell_type": "code",
      "metadata": {
        "id": "etNbvnBegVAB",
        "colab_type": "code",
        "colab": {}
      },
      "source": [
        "import csv\n",
        "import pandas as pd\n",
        "import numpy as np\n",
        "import matplotlib.pyplot as plt\n",
        "from pathlib import Path"
      ],
      "execution_count": 0,
      "outputs": []
    },
    {
      "cell_type": "code",
      "metadata": {
        "id": "Mdy7c5ZSgfEC",
        "colab_type": "code",
        "colab": {}
      },
      "source": [
        "data_path = Path('breast-cancer-wisconsin.data') #copy and paste the path here"
      ],
      "execution_count": 0,
      "outputs": []
    },
    {
      "cell_type": "code",
      "metadata": {
        "id": "Fb6DQ4LlhtLB",
        "colab_type": "code",
        "outputId": "ee2b6701-dac7-4ef9-a5a6-f9a65f151070",
        "colab": {
          "base_uri": "https://localhost:8080/",
          "height": 215
        }
      },
      "source": [
        "headers = ['id', 'Clump Thickness', 'Uniformity Cell Size',\n",
        "          'Uniformity Cell Shape', 'Marginal Adhesion',\n",
        "          'Single Epithelial Cell Size', 'Bare Nuclei','Bland Chromatin',\n",
        "          'Normal Nucleoli','Mitoses','Class']\n",
        "\n",
        "cancer_df = pd.read_csv(data_path, names=headers)\n",
        "cancer_df.head()"
      ],
      "execution_count": 0,
      "outputs": [
        {
          "output_type": "execute_result",
          "data": {
            "text/html": [
              "<div>\n",
              "<style scoped>\n",
              "    .dataframe tbody tr th:only-of-type {\n",
              "        vertical-align: middle;\n",
              "    }\n",
              "\n",
              "    .dataframe tbody tr th {\n",
              "        vertical-align: top;\n",
              "    }\n",
              "\n",
              "    .dataframe thead th {\n",
              "        text-align: right;\n",
              "    }\n",
              "</style>\n",
              "<table border=\"1\" class=\"dataframe\">\n",
              "  <thead>\n",
              "    <tr style=\"text-align: right;\">\n",
              "      <th></th>\n",
              "      <th>id</th>\n",
              "      <th>Clump Thickness</th>\n",
              "      <th>Uniformity Cell Size</th>\n",
              "      <th>Uniformity Cell Shape</th>\n",
              "      <th>Marginal Adhesion</th>\n",
              "      <th>Single Epithelial Cell Size</th>\n",
              "      <th>Bare Nuclei</th>\n",
              "      <th>Bland Chromatin</th>\n",
              "      <th>Normal Nucleoli</th>\n",
              "      <th>Mitoses</th>\n",
              "      <th>Class</th>\n",
              "    </tr>\n",
              "  </thead>\n",
              "  <tbody>\n",
              "    <tr>\n",
              "      <th>0</th>\n",
              "      <td>1000025</td>\n",
              "      <td>5</td>\n",
              "      <td>1</td>\n",
              "      <td>1</td>\n",
              "      <td>1</td>\n",
              "      <td>2</td>\n",
              "      <td>1</td>\n",
              "      <td>3</td>\n",
              "      <td>1</td>\n",
              "      <td>1</td>\n",
              "      <td>2</td>\n",
              "    </tr>\n",
              "    <tr>\n",
              "      <th>1</th>\n",
              "      <td>1002945</td>\n",
              "      <td>5</td>\n",
              "      <td>4</td>\n",
              "      <td>4</td>\n",
              "      <td>5</td>\n",
              "      <td>7</td>\n",
              "      <td>10</td>\n",
              "      <td>3</td>\n",
              "      <td>2</td>\n",
              "      <td>1</td>\n",
              "      <td>2</td>\n",
              "    </tr>\n",
              "    <tr>\n",
              "      <th>2</th>\n",
              "      <td>1015425</td>\n",
              "      <td>3</td>\n",
              "      <td>1</td>\n",
              "      <td>1</td>\n",
              "      <td>1</td>\n",
              "      <td>2</td>\n",
              "      <td>2</td>\n",
              "      <td>3</td>\n",
              "      <td>1</td>\n",
              "      <td>1</td>\n",
              "      <td>2</td>\n",
              "    </tr>\n",
              "    <tr>\n",
              "      <th>3</th>\n",
              "      <td>1016277</td>\n",
              "      <td>6</td>\n",
              "      <td>8</td>\n",
              "      <td>8</td>\n",
              "      <td>1</td>\n",
              "      <td>3</td>\n",
              "      <td>4</td>\n",
              "      <td>3</td>\n",
              "      <td>7</td>\n",
              "      <td>1</td>\n",
              "      <td>2</td>\n",
              "    </tr>\n",
              "    <tr>\n",
              "      <th>4</th>\n",
              "      <td>1017023</td>\n",
              "      <td>4</td>\n",
              "      <td>1</td>\n",
              "      <td>1</td>\n",
              "      <td>3</td>\n",
              "      <td>2</td>\n",
              "      <td>1</td>\n",
              "      <td>3</td>\n",
              "      <td>1</td>\n",
              "      <td>1</td>\n",
              "      <td>2</td>\n",
              "    </tr>\n",
              "  </tbody>\n",
              "</table>\n",
              "</div>"
            ],
            "text/plain": [
              "        id  Clump Thickness  ...  Mitoses  Class\n",
              "0  1000025                5  ...        1      2\n",
              "1  1002945                5  ...        1      2\n",
              "2  1015425                3  ...        1      2\n",
              "3  1016277                6  ...        1      2\n",
              "4  1017023                4  ...        1      2\n",
              "\n",
              "[5 rows x 11 columns]"
            ]
          },
          "metadata": {
            "tags": []
          },
          "execution_count": 3
        }
      ]
    },
    {
      "cell_type": "code",
      "metadata": {
        "id": "PYirzdqR6qGi",
        "colab_type": "code",
        "outputId": "d0dcc0bc-1acb-4851-815d-8c74cbaf23f4",
        "colab": {
          "base_uri": "https://localhost:8080/",
          "height": 72
        }
      },
      "source": [
        "cancer_df['Class'].value_counts()"
      ],
      "execution_count": 0,
      "outputs": [
        {
          "output_type": "execute_result",
          "data": {
            "text/plain": [
              "2    458\n",
              "4    241\n",
              "Name: Class, dtype: int64"
            ]
          },
          "metadata": {
            "tags": []
          },
          "execution_count": 5
        }
      ]
    },
    {
      "cell_type": "code",
      "metadata": {
        "id": "x3Fw6CzOlHYL",
        "colab_type": "code",
        "colab": {}
      },
      "source": [
        "#change the class to 0 and 1 (2 for benign, 4 for malignant)\n",
        "\n",
        "cancer_df['Class'] = cancer_df['Class'].map({2:0, 4:1})"
      ],
      "execution_count": 0,
      "outputs": []
    },
    {
      "cell_type": "code",
      "metadata": {
        "id": "ZITyjBwhnIte",
        "colab_type": "code",
        "outputId": "950eaaf7-7d3d-49e5-a771-4eee5cb130ee",
        "colab": {
          "base_uri": "https://localhost:8080/",
          "height": 72
        }
      },
      "source": [
        "cancer_df['Class'].value_counts()"
      ],
      "execution_count": 0,
      "outputs": [
        {
          "output_type": "execute_result",
          "data": {
            "text/plain": [
              "0    458\n",
              "1    241\n",
              "Name: Class, dtype: int64"
            ]
          },
          "metadata": {
            "tags": []
          },
          "execution_count": 7
        }
      ]
    },
    {
      "cell_type": "code",
      "metadata": {
        "id": "cGQo3sO7nUXK",
        "colab_type": "code",
        "colab": {}
      },
      "source": [
        "#drop the Id\n",
        "cancer_df.drop(columns='id', inplace=True)"
      ],
      "execution_count": 0,
      "outputs": []
    },
    {
      "cell_type": "code",
      "metadata": {
        "id": "o4uxlF1mninR",
        "colab_type": "code",
        "outputId": "e8e11e11-fd0e-486f-d097-e735b9d1e1e9",
        "colab": {
          "base_uri": "https://localhost:8080/",
          "height": 215
        }
      },
      "source": [
        "cancer_df.head()"
      ],
      "execution_count": 0,
      "outputs": [
        {
          "output_type": "execute_result",
          "data": {
            "text/html": [
              "<div>\n",
              "<style scoped>\n",
              "    .dataframe tbody tr th:only-of-type {\n",
              "        vertical-align: middle;\n",
              "    }\n",
              "\n",
              "    .dataframe tbody tr th {\n",
              "        vertical-align: top;\n",
              "    }\n",
              "\n",
              "    .dataframe thead th {\n",
              "        text-align: right;\n",
              "    }\n",
              "</style>\n",
              "<table border=\"1\" class=\"dataframe\">\n",
              "  <thead>\n",
              "    <tr style=\"text-align: right;\">\n",
              "      <th></th>\n",
              "      <th>Clump Thickness</th>\n",
              "      <th>Uniformity Cell Size</th>\n",
              "      <th>Uniformity Cell Shape</th>\n",
              "      <th>Marginal Adhesion</th>\n",
              "      <th>Single Epithelial Cell Size</th>\n",
              "      <th>Bare Nuclei</th>\n",
              "      <th>Bland Chromatin</th>\n",
              "      <th>Normal Nucleoli</th>\n",
              "      <th>Mitoses</th>\n",
              "      <th>Class</th>\n",
              "    </tr>\n",
              "  </thead>\n",
              "  <tbody>\n",
              "    <tr>\n",
              "      <th>0</th>\n",
              "      <td>5</td>\n",
              "      <td>1</td>\n",
              "      <td>1</td>\n",
              "      <td>1</td>\n",
              "      <td>2</td>\n",
              "      <td>1</td>\n",
              "      <td>3</td>\n",
              "      <td>1</td>\n",
              "      <td>1</td>\n",
              "      <td>0</td>\n",
              "    </tr>\n",
              "    <tr>\n",
              "      <th>1</th>\n",
              "      <td>5</td>\n",
              "      <td>4</td>\n",
              "      <td>4</td>\n",
              "      <td>5</td>\n",
              "      <td>7</td>\n",
              "      <td>10</td>\n",
              "      <td>3</td>\n",
              "      <td>2</td>\n",
              "      <td>1</td>\n",
              "      <td>0</td>\n",
              "    </tr>\n",
              "    <tr>\n",
              "      <th>2</th>\n",
              "      <td>3</td>\n",
              "      <td>1</td>\n",
              "      <td>1</td>\n",
              "      <td>1</td>\n",
              "      <td>2</td>\n",
              "      <td>2</td>\n",
              "      <td>3</td>\n",
              "      <td>1</td>\n",
              "      <td>1</td>\n",
              "      <td>0</td>\n",
              "    </tr>\n",
              "    <tr>\n",
              "      <th>3</th>\n",
              "      <td>6</td>\n",
              "      <td>8</td>\n",
              "      <td>8</td>\n",
              "      <td>1</td>\n",
              "      <td>3</td>\n",
              "      <td>4</td>\n",
              "      <td>3</td>\n",
              "      <td>7</td>\n",
              "      <td>1</td>\n",
              "      <td>0</td>\n",
              "    </tr>\n",
              "    <tr>\n",
              "      <th>4</th>\n",
              "      <td>4</td>\n",
              "      <td>1</td>\n",
              "      <td>1</td>\n",
              "      <td>3</td>\n",
              "      <td>2</td>\n",
              "      <td>1</td>\n",
              "      <td>3</td>\n",
              "      <td>1</td>\n",
              "      <td>1</td>\n",
              "      <td>0</td>\n",
              "    </tr>\n",
              "  </tbody>\n",
              "</table>\n",
              "</div>"
            ],
            "text/plain": [
              "   Clump Thickness  Uniformity Cell Size  ...  Mitoses  Class\n",
              "0                5                     1  ...        1      0\n",
              "1                5                     4  ...        1      0\n",
              "2                3                     1  ...        1      0\n",
              "3                6                     8  ...        1      0\n",
              "4                4                     1  ...        1      0\n",
              "\n",
              "[5 rows x 10 columns]"
            ]
          },
          "metadata": {
            "tags": []
          },
          "execution_count": 9
        }
      ]
    },
    {
      "cell_type": "code",
      "metadata": {
        "id": "VueoZjBxnkRx",
        "colab_type": "code",
        "outputId": "06f02636-bd87-4442-8610-867944f8e8d9",
        "colab": {
          "base_uri": "https://localhost:8080/",
          "height": 35
        }
      },
      "source": [
        "cancer_df.shape"
      ],
      "execution_count": 0,
      "outputs": [
        {
          "output_type": "execute_result",
          "data": {
            "text/plain": [
              "(699, 10)"
            ]
          },
          "metadata": {
            "tags": []
          },
          "execution_count": 10
        }
      ]
    },
    {
      "cell_type": "code",
      "metadata": {
        "id": "TL8VE6D_rAx-",
        "colab_type": "code",
        "outputId": "0bfcc488-a258-4ede-8953-34a82412979a",
        "colab": {
          "base_uri": "https://localhost:8080/",
          "height": 217
        }
      },
      "source": [
        "cancer_df.isna().sum()"
      ],
      "execution_count": 0,
      "outputs": [
        {
          "output_type": "execute_result",
          "data": {
            "text/plain": [
              "Clump Thickness                0\n",
              "Uniformity Cell Size           0\n",
              "Uniformity Cell Shape          0\n",
              "Marginal Adhesion              0\n",
              "Single Epithelial Cell Size    0\n",
              "Bare Nuclei                    0\n",
              "Bland Chromatin                0\n",
              "Normal Nucleoli                0\n",
              "Mitoses                        0\n",
              "Class                          0\n",
              "dtype: int64"
            ]
          },
          "metadata": {
            "tags": []
          },
          "execution_count": 11
        }
      ]
    },
    {
      "cell_type": "code",
      "metadata": {
        "id": "SYbTqJ1jbo1U",
        "colab_type": "code",
        "outputId": "0ccf3a14-3af3-4a00-9696-8b53b7dc1ada",
        "colab": {
          "base_uri": "https://localhost:8080/",
          "height": 217
        }
      },
      "source": [
        "#check types\n",
        "cancer_df.dtypes"
      ],
      "execution_count": 0,
      "outputs": [
        {
          "output_type": "execute_result",
          "data": {
            "text/plain": [
              "Clump Thickness                 int64\n",
              "Uniformity Cell Size            int64\n",
              "Uniformity Cell Shape           int64\n",
              "Marginal Adhesion               int64\n",
              "Single Epithelial Cell Size     int64\n",
              "Bare Nuclei                    object\n",
              "Bland Chromatin                 int64\n",
              "Normal Nucleoli                 int64\n",
              "Mitoses                         int64\n",
              "Class                           int64\n",
              "dtype: object"
            ]
          },
          "metadata": {
            "tags": []
          },
          "execution_count": 12
        }
      ]
    },
    {
      "cell_type": "code",
      "metadata": {
        "id": "pTGemUctcHnt",
        "colab_type": "code",
        "outputId": "c746dd3d-137a-46b7-9f47-289d4ebead17",
        "colab": {
          "base_uri": "https://localhost:8080/",
          "height": 54
        }
      },
      "source": [
        "cancer_df['Bare Nuclei'].unique()"
      ],
      "execution_count": 0,
      "outputs": [
        {
          "output_type": "execute_result",
          "data": {
            "text/plain": [
              "array(['1', '10', '2', '4', '3', '9', '7', '?', '5', '8', '6'],\n",
              "      dtype=object)"
            ]
          },
          "metadata": {
            "tags": []
          },
          "execution_count": 13
        }
      ]
    },
    {
      "cell_type": "code",
      "metadata": {
        "id": "U-U3MzXldOHS",
        "colab_type": "code",
        "outputId": "1cb109da-fb5f-45f6-94ea-89ba5d4f23ae",
        "colab": {
          "base_uri": "https://localhost:8080/",
          "height": 235
        }
      },
      "source": [
        "cancer_df['Bare Nuclei'].value_counts()"
      ],
      "execution_count": 0,
      "outputs": [
        {
          "output_type": "execute_result",
          "data": {
            "text/plain": [
              "1     402\n",
              "10    132\n",
              "2      30\n",
              "5      30\n",
              "3      28\n",
              "8      21\n",
              "4      19\n",
              "?      16\n",
              "9       9\n",
              "7       8\n",
              "6       4\n",
              "Name: Bare Nuclei, dtype: int64"
            ]
          },
          "metadata": {
            "tags": []
          },
          "execution_count": 14
        }
      ]
    },
    {
      "cell_type": "code",
      "metadata": {
        "id": "ydW9Amw9bugW",
        "colab_type": "code",
        "colab": {}
      },
      "source": [
        "#Replace missing\n",
        "cancer_df = cancer_df.replace('?', np.NaN)"
      ],
      "execution_count": 0,
      "outputs": []
    },
    {
      "cell_type": "code",
      "metadata": {
        "id": "tAgXDhZfeNhC",
        "colab_type": "code",
        "outputId": "7fddbb9b-33f6-4d5b-b892-b859bcb9e777",
        "colab": {
          "base_uri": "https://localhost:8080/",
          "height": 217
        }
      },
      "source": [
        "cancer_df.isna().sum()"
      ],
      "execution_count": 0,
      "outputs": [
        {
          "output_type": "execute_result",
          "data": {
            "text/plain": [
              "Clump Thickness                 0\n",
              "Uniformity Cell Size            0\n",
              "Uniformity Cell Shape           0\n",
              "Marginal Adhesion               0\n",
              "Single Epithelial Cell Size     0\n",
              "Bare Nuclei                    16\n",
              "Bland Chromatin                 0\n",
              "Normal Nucleoli                 0\n",
              "Mitoses                         0\n",
              "Class                           0\n",
              "dtype: int64"
            ]
          },
          "metadata": {
            "tags": []
          },
          "execution_count": 16
        }
      ]
    },
    {
      "cell_type": "code",
      "metadata": {
        "id": "8lunLqWDdCMx",
        "colab_type": "code",
        "colab": {}
      },
      "source": [
        "cancer_df['Bare Nuclei'] = cancer_df['Bare Nuclei'].fillna('1')"
      ],
      "execution_count": 0,
      "outputs": []
    },
    {
      "cell_type": "code",
      "metadata": {
        "id": "3kp9eYF6eySK",
        "colab_type": "code",
        "outputId": "3babe2ae-bdb7-48c7-deb4-fc77bcfcc82e",
        "colab": {
          "base_uri": "https://localhost:8080/",
          "height": 217
        }
      },
      "source": [
        "cancer_df.dtypes"
      ],
      "execution_count": 0,
      "outputs": [
        {
          "output_type": "execute_result",
          "data": {
            "text/plain": [
              "Clump Thickness                 int64\n",
              "Uniformity Cell Size            int64\n",
              "Uniformity Cell Shape           int64\n",
              "Marginal Adhesion               int64\n",
              "Single Epithelial Cell Size     int64\n",
              "Bare Nuclei                    object\n",
              "Bland Chromatin                 int64\n",
              "Normal Nucleoli                 int64\n",
              "Mitoses                         int64\n",
              "Class                           int64\n",
              "dtype: object"
            ]
          },
          "metadata": {
            "tags": []
          },
          "execution_count": 18
        }
      ]
    },
    {
      "cell_type": "code",
      "metadata": {
        "id": "j4dciRJve4uK",
        "colab_type": "code",
        "colab": {}
      },
      "source": [
        "cancer_df = cancer_df.astype('int64')"
      ],
      "execution_count": 0,
      "outputs": []
    },
    {
      "cell_type": "code",
      "metadata": {
        "id": "MKfvjS0XnmWb",
        "colab_type": "code",
        "colab": {}
      },
      "source": [
        "#Seperate train and test set\n",
        "from sklearn.model_selection import train_test_split\n",
        "from sklearn.preprocessing import StandardScaler\n",
        "\n",
        "X = cancer_df.drop(columns='Class')\n",
        "y = cancer_df.Class.values.reshape(X.shape[0], 1)  #IMPORTANT: RESHAPE TARGET TO 2D ARRAY\n",
        "Xtrain, Xtest, ytrain, ytest = train_test_split(X,y, test_size=0.2, random_state=2)\n",
        "\n",
        "sc = StandardScaler()\n",
        "sc.fit(Xtrain)\n",
        "Xtrain = sc.transform(Xtrain)\n",
        "Xtest = sc.transform(Xtest)"
      ],
      "execution_count": 0,
      "outputs": []
    },
    {
      "cell_type": "code",
      "metadata": {
        "id": "Eyw9chzFr-Kx",
        "colab_type": "code",
        "outputId": "cf1b941d-4a29-40de-cb21-5b0dabc5cf38",
        "colab": {
          "base_uri": "https://localhost:8080/",
          "height": 54
        }
      },
      "source": [
        "print(f\"Shape of Xtrain {Xtrain.shape}\")\n",
        "print(f\"Shape of ytrain {ytrain.shape}\")"
      ],
      "execution_count": 0,
      "outputs": [
        {
          "output_type": "stream",
          "text": [
            "Shape of Xtrain (559, 9)\n",
            "Shape of ytrain (559, 1)\n"
          ],
          "name": "stdout"
        }
      ]
    },
    {
      "cell_type": "markdown",
      "metadata": {
        "id": "J8D83pwAt6_T",
        "colab_type": "text"
      },
      "source": [
        "## NEURAL NETWORK"
      ]
    },
    {
      "cell_type": "code",
      "metadata": {
        "id": "nZi8Am_EuBeO",
        "colab_type": "code",
        "colab": {}
      },
      "source": [
        "X_in = Xtrain\n",
        "y = ytrain \n",
        "cost_list = []\n",
        "layers = [9,4,1]\n",
        "lr = 0.001\n",
        "nn_params = {}\n",
        "\n",
        "np.random.seed(2)\n",
        "#initialize weights and biases\n",
        "nn_params['W1'] = np.random.randn(layers[0],layers[1]) \n",
        "nn_params['W2'] = np.random.randn(layers[1],layers[2]) \n",
        "nn_params['b1'] = np.random.randn(layers[1],)\n",
        "nn_params['b2'] = np.random.randn(layers[2],)\n",
        "\n",
        "#Activations\n",
        "def relu(Z):\n",
        "  return np.maximum(0, Z)\n",
        "\n",
        "def sigmoid(Z):\n",
        "  return 1.0 / (1.0 + np.exp(-Z))\n",
        "\n",
        "#binary cross entropy loss\n",
        "def entropy_loss(Y, Yhat):\n",
        "  nsample = len(y)\n",
        "  loss = -1/nsample * (np.sum(np.multiply(np.log(Yhat), Y) + np.multiply((1 - Y), np.log(1 - Yhat))))\n",
        "  # loss = np.squeeze(loss)\n",
        "  return loss\n",
        "\n",
        "for i in range(50):\n",
        "  #forward propagation\n",
        "  Z1 = X_in.dot(nn_params['W1']) + nn_params['b1']\n",
        "  A1 = relu(Z1)\n",
        "  Z2 = A1.dot(nn_params['W2']) + nn_params['b2']\n",
        "  yhat = sigmoid(Z2)\n",
        "  cost = entropy_loss(y,yhat)\n",
        "  cost_list.append(cost)\n",
        "\n",
        "  #Backpropagation\n",
        "  dl_wrt_yhat = -(np.divide(y,yhat) - np.divide((1 - y),(1-yhat)))\n",
        "  dl_wrt_sig = yhat * (1-yhat)\n",
        "  dl_wrt_z2 = dl_wrt_yhat * dl_wrt_sig\n",
        "  dl_wrt_A1 = dl_wrt_z2.dot(nn_params['W2'].T)\n",
        "  dl_wrt_w2 = A1.T.dot(dl_wrt_z2)\n",
        "  dl_wrt_b2 = np.sum(dl_wrt_z2, axis=0)\n",
        "\n",
        "  def dRelu(x):\n",
        "      x[x<=0] = 0\n",
        "      x[x>0] = 1\n",
        "      return x\n",
        "\n",
        "  dl_wrt_z1 = dl_wrt_A1 * dRelu(Z1)\n",
        "  dl_wrt_w1 = X_in.T.dot(dl_wrt_z1)\n",
        "  dl_wrt_b1 = np.sum(dl_wrt_z1, axis=0)\n",
        "\n",
        "\n",
        "  #updates\n",
        "  nn_params['W1'] = nn_params['W1'] - lr * dl_wrt_w1\n",
        "  nn_params['W2'] = nn_params['W2'] - lr * dl_wrt_w2\n",
        "  nn_params['b1'] = nn_params['b1'] - lr * dl_wrt_b1\n",
        "  nn_params['b2'] = nn_params['b2'] - lr * dl_wrt_b2\n"
      ],
      "execution_count": 0,
      "outputs": []
    },
    {
      "cell_type": "code",
      "metadata": {
        "id": "bgYZP8GFwn3k",
        "colab_type": "code",
        "outputId": "dd931300-9492-4ba2-ae11-9bc53524c02c",
        "colab": {
          "base_uri": "https://localhost:8080/",
          "height": 283
        }
      },
      "source": [
        "plt.plot(cost_list)"
      ],
      "execution_count": 0,
      "outputs": [
        {
          "output_type": "execute_result",
          "data": {
            "text/plain": [
              "[<matplotlib.lines.Line2D at 0x7f8c528f5128>]"
            ]
          },
          "metadata": {
            "tags": []
          },
          "execution_count": 43
        },
        {
          "output_type": "display_data",
          "data": {
            "image/png": "[encoded data removed]",
            "text/plain": [
              "<Figure size 432x288 with 1 Axes>"
            ]
          },
          "metadata": {
            "tags": []
          }
        }
      ]
    },
    {
      "cell_type": "code",
      "metadata": {
        "id": "0dZnuzb_Lo05",
        "colab_type": "code",
        "colab": {}
      },
      "source": [
        "def predict(X):\n",
        "  Z1 = X.dot(nn_params['W1']) + nn_params['b1']\n",
        "  A1 = relu(Z1)\n",
        "  Z2 = A1.dot(nn_params['W2']) + nn_params['b2']\n",
        "  pred = sigmoid(Z2)\n",
        "  return np.round(pred)"
      ],
      "execution_count": 0,
      "outputs": []
    },
    {
      "cell_type": "code",
      "metadata": {
        "id": "zUAJ2hTLsAmw",
        "colab_type": "code",
        "colab": {}
      },
      "source": [
        "ypred = predict(Xtrain)"
      ],
      "execution_count": 0,
      "outputs": []
    },
    {
      "cell_type": "code",
      "metadata": {
        "id": "KcfDOu3EZh7i",
        "colab_type": "code",
        "outputId": "297a7912-790c-4d72-a0ab-a1d3d692e83a",
        "colab": {
          "base_uri": "https://localhost:8080/",
          "height": 35
        }
      },
      "source": [
        "acc = int(sum((ypred == ytrain) ) / len(ytrain) * 100)\n",
        "acc"
      ],
      "execution_count": 0,
      "outputs": [
        {
          "output_type": "execute_result",
          "data": {
            "text/plain": [
              "97"
            ]
          },
          "metadata": {
            "tags": []
          },
          "execution_count": 46
        }
      ]
    },
    {
      "cell_type": "code",
      "metadata": {
        "id": "Hxxal32bMhut",
        "colab_type": "code",
        "colab": {}
      },
      "source": [
        "ypred_test = predict(Xtest)"
      ],
      "execution_count": 0,
      "outputs": []
    },
    {
      "cell_type": "code",
      "metadata": {
        "id": "Q0KwYRApMtcb",
        "colab_type": "code",
        "outputId": "cb42369b-d4b8-44de-9541-603281156094",
        "colab": {
          "base_uri": "https://localhost:8080/",
          "height": 35
        }
      },
      "source": [
        "acc_test = int(sum((ypred_test == ytest) ) / len(ytest) * 100)\n",
        "acc_test"
      ],
      "execution_count": 0,
      "outputs": [
        {
          "output_type": "execute_result",
          "data": {
            "text/plain": [
              "96"
            ]
          },
          "metadata": {
            "tags": []
          },
          "execution_count": 48
        }
      ]
    },
    {
      "cell_type": "markdown",
      "metadata": {
        "id": "pKhUfcgn6DVQ",
        "colab_type": "text"
      },
      "source": [
        "\n",
        "## MODULAR NEURAL NETWORK USING OOP"
      ]
    },
    {
      "cell_type": "code",
      "metadata": {
        "id": "zoP0dh3p6Cma",
        "colab_type": "code",
        "colab": {}
      },
      "source": [
        "class NeuralNetSt():\n",
        "  np.random.seed(2)\n",
        "  \n",
        "  def __init__(self, layers=[9,4,1], lr=0.001, iterations=100):\n",
        "    self.layers = layers\n",
        "    self.lr = lr\n",
        "    self.params = {}\n",
        "    self.cost = []\n",
        "    self.iterations = iterations\n",
        "    self.X = None\n",
        "    self.y = None\n",
        "    \n",
        "\n",
        "\n",
        "  def _init_weights(self):\n",
        "    #initialize weights and biases\n",
        "    self.params['W1'] = np.random.randn(self.layers[0],self.layers[1]) \n",
        "    self.params['W2'] = np.random.randn(self.layers[1],self.layers[2]) \n",
        "    self.params['b1'] = np.random.randn(self.layers[1],)\n",
        "    self.params['b2'] = np.random.randn(self.layers[2],)\n",
        "\n",
        "  def _relu(self,Z):\n",
        "    return np.maximum(0, Z)\n",
        "\n",
        "  def _sigmoid(self,Z):\n",
        "    return 1.0 / (1.0 + np.exp(-Z))\n",
        "\n",
        "  def _dRelu(self,x):\n",
        "    x[x<=0] = 0\n",
        "    x[x>0] = 1\n",
        "    return x\n",
        "\n",
        "  #binary cross entropy loss\n",
        "  def _entropy_loss(self,Y, Yhat):\n",
        "    nsample = len(y)\n",
        "    loss = -1/nsample * (np.sum(np.multiply(np.log(Yhat), Y) + np.multiply((1 - Y), np.log(1 - Yhat))))\n",
        "    loss = np.squeeze(loss)\n",
        "    return loss\n",
        "\n",
        "\n",
        "  def _forward_prop(self):\n",
        "    #forward propagation\n",
        "    Z1 = self.X.dot(self.params['W1']) + self.params['b1']\n",
        "    A1 = self._relu(Z1)\n",
        "    Z2 = A1.dot(self.params['W2']) + self.params['b2']\n",
        "    yhat = self._sigmoid(Z2)\n",
        "    cost = self._entropy_loss(self.y,yhat)\n",
        "\n",
        "    #save parameters\n",
        "    self.params['Z1'] = Z1\n",
        "    self.params['A1'] = A1\n",
        "    self.params['Z2'] = Z2\n",
        "\n",
        "    return yhat,cost\n",
        "\n",
        "\n",
        "  def _backward_prop(self,yhat):\n",
        "    #Backpropagation\n",
        "    dl_wrt_yhat = -(np.divide(self.y,yhat) - np.divide((1 - self.y),(1-yhat)))\n",
        "    dl_wrt_sig = yhat * (1-yhat)\n",
        "    dl_wrt_z2 = dl_wrt_yhat * dl_wrt_sig\n",
        "\n",
        "    dl_wrt_A1 = dl_wrt_z2.dot(self.params['W2'].T)\n",
        "    dl_wrt_w2 = self.params['A1'].T.dot(dl_wrt_z2)\n",
        "    dl_wrt_b2 = np.sum(dl_wrt_z2, axis=0)\n",
        "\n",
        "    dl_wrt_z1 = dl_wrt_A1 * self._dRelu(self.params['Z1'])\n",
        "    dl_wrt_w1 = self.X.T.dot(dl_wrt_z1)\n",
        "    dl_wrt_b1 = np.sum(dl_wrt_z1, axis=0)\n",
        "\n",
        "    #updates\n",
        "    self.params['W1'] = self.params['W1'] - self.lr * dl_wrt_w1\n",
        "    self.params['W2'] = self.params['W2'] - self.lr * dl_wrt_w2\n",
        "    self.params['b1'] = self.params['b1'] - self.lr * dl_wrt_b1\n",
        "    self.params['b2'] = self.params['b2'] - self.lr * dl_wrt_b2\n",
        "\n",
        "  \n",
        "  def fit(self,X, y):\n",
        "    self.X = X\n",
        "    self.y = y\n",
        "    self._init_weights()\n",
        "\n",
        "    for i in range(self.iterations):\n",
        "      yhat, loss = self._forward_prop()\n",
        "      self.cost.append(loss)\n",
        "      self._backward_prop(yhat)\n",
        "    \n",
        "\n",
        "  def predict(self, X):\n",
        "    Z1 = X.dot(self.params['W1']) + self.params['b1']\n",
        "    A1 = self._relu(Z1)\n",
        "    Z2 = A1.dot(self.params['W2']) + self.params['b2']\n",
        "    pred = self._sigmoid(Z2)\n",
        "    return np.round(pred)\n",
        "\n",
        "\n",
        "  def plot_loss(self):\n",
        "    plt.plot(self.cost)\n",
        "    plt.title(f\"Loss curve for {self.iterations} iterations\")\n",
        "    plt.xlabel(\"iterations\")\n",
        "    plt.ylabel(\"loss\")\n",
        "    plt.show()\n",
        "\n",
        "\n",
        "  def accuracy(self, y, yhat):\n",
        "    return int(sum((y == yhat) ) / len(y) * 100)\n",
        "\n",
        "  "
      ],
      "execution_count": 0,
      "outputs": []
    },
    {
      "cell_type": "code",
      "metadata": {
        "id": "gDXhb2NJjtyX",
        "colab_type": "code",
        "colab": {}
      },
      "source": [
        "mynet11 = NeuralNetSt(layers=[9,8,1])\n",
        "mynet11.fit(Xtrain, ytrain)\n",
        "pred = mynet11.predict(Xtest)"
      ],
      "execution_count": 0,
      "outputs": []
    },
    {
      "cell_type": "code",
      "metadata": {
        "id": "5elhAJZyrJJw",
        "colab_type": "code",
        "outputId": "b1dcb887-81d5-403e-83bf-722041e68c8f",
        "colab": {
          "base_uri": "https://localhost:8080/",
          "height": 35
        }
      },
      "source": [
        "mynet11.accuracy(pred,ytest)"
      ],
      "execution_count": 0,
      "outputs": [
        {
          "output_type": "execute_result",
          "data": {
            "text/plain": [
              "96"
            ]
          },
          "metadata": {
            "tags": []
          },
          "execution_count": 34
        }
      ]
    },
    {
      "cell_type": "code",
      "metadata": {
        "id": "jDqCgqaEpoMD",
        "colab_type": "code",
        "outputId": "b1ed99c7-6127-43b1-9fb4-11c38d98f997",
        "colab": {
          "base_uri": "https://localhost:8080/",
          "height": 295
        }
      },
      "source": [
        "mynet11.plot_loss()"
      ],
      "execution_count": 0,
      "outputs": [
        {
          "output_type": "display_data",
          "data": {
            "image/png": "[encoded data removed]",
            "text/plain": [
              "<Figure size 432x288 with 1 Axes>"
            ]
          },
          "metadata": {
            "tags": []
          }
        }
      ]
    },
    {
      "cell_type": "markdown",
      "metadata": {
        "id": "HJBHCbrZ3-P8",
        "colab_type": "text"
      },
      "source": [
        "## NN with Stochastic Gradient Descent\n"
      ]
    },
    {
      "cell_type": "code",
      "metadata": {
        "id": "tFJ4RVsCrxa9",
        "colab_type": "code",
        "colab": {}
      },
      "source": [
        "class NeuralNetSGD():\n",
        "  np.random.seed(2)\n",
        "  \n",
        "  def __init__(self, layers=[9,4,1], lr=0.001, iterations=100, epochs=10, showloss=20):\n",
        "    self.layers = layers\n",
        "    self.lr = lr\n",
        "    self.params = {}\n",
        "    self.cost = []\n",
        "    self.epochs = epochs\n",
        "    self.iterations = iterations\n",
        "    self.showloss = showloss\n",
        "    self.X = None\n",
        "    self.y = None\n",
        "    \n",
        "\n",
        "\n",
        "  def _init_weights(self):\n",
        "    #initialize weights and biases\n",
        "    self.params['W1'] = np.random.randn(self.layers[0],self.layers[1]) \n",
        "    self.params['W2'] = np.random.randn(self.layers[1],self.layers[2]) \n",
        "    self.params['b1'] = np.random.randn(self.layers[1],)\n",
        "    self.params['b2'] = np.random.randn(self.layers[2],)\n",
        "\n",
        "  def _relu(self,Z):\n",
        "    return np.maximum(0, Z)\n",
        "\n",
        "  def _sigmoid(self,Z):\n",
        "    return 1.0 / (1.0 + np.exp(-Z))\n",
        "\n",
        "  def _dRelu(self,x):\n",
        "    x[x<=0] = 0\n",
        "    x[x>0] = 1\n",
        "    return x\n",
        "\n",
        "  #binary cross entropy loss\n",
        "  def _entropy_loss(self,Y, Yhat):\n",
        "    nsample = len(y)\n",
        "    loss = -1/nsample * (np.sum(np.multiply(np.log(Yhat), Y) + np.multiply((1 - Y), np.log(1 - Yhat))))\n",
        "    # loss = np.squeeze(loss)\n",
        "    return loss\n",
        "\n",
        "\n",
        "  def _forward_prop(self):\n",
        "    #forward propagation\n",
        "    Z1 = self.X.dot(self.params['W1']) + self.params['b1']\n",
        "    A1 = self._relu(Z1)\n",
        "    Z2 = A1.dot(self.params['W2']) + self.params['b2']\n",
        "    yhat = self._sigmoid(Z2)\n",
        "    cost = self._entropy_loss(self.y,yhat)\n",
        "\n",
        "    #save parameters\n",
        "    self.params['Z1'] = Z1\n",
        "    self.params['A1'] = A1\n",
        "    self.params['Z2'] = Z2\n",
        "    return yhat,cost\n",
        "\n",
        "\n",
        "  def _backward_prop(self,yhat):\n",
        "    #Backpropagation\n",
        "    dl_wrt_yhat = -(np.divide(self.y,yhat) - np.divide((1 - self.y),(1-yhat)))\n",
        "    dl_wrt_sig = yhat * (1-yhat)\n",
        "    dl_wrt_z2 = dl_wrt_yhat * dl_wrt_sig\n",
        "\n",
        "    dl_wrt_A1 = dl_wrt_z2.dot(self.params['W2'].T)\n",
        "    dl_wrt_w2 = self.params['A1'].T.dot(dl_wrt_z2)\n",
        "    dl_wrt_b2 = np.sum(dl_wrt_z2, axis=0)\n",
        "\n",
        "    dl_wrt_z1 = dl_wrt_A1 * self._dRelu(self.params['Z1'])\n",
        "    dl_wrt_w1 = self.X.T.dot(dl_wrt_z1)\n",
        "    dl_wrt_b1 = np.sum(dl_wrt_z1, axis=0)\n",
        "\n",
        "    #updates\n",
        "    self.params['W1'] = self.params['W1'] - self.lr * dl_wrt_w1\n",
        "    self.params['W2'] = self.params['W2'] - self.lr * dl_wrt_w2\n",
        "    self.params['b1'] = self.params['b1'] - self.lr * dl_wrt_b1\n",
        "    self.params['b2'] = self.params['b2'] - self.lr * dl_wrt_b2\n",
        "\n",
        "\n",
        "  def fit(self, X, y):\n",
        "    self._init_weights()\n",
        "\n",
        "    for i in range(self.epochs):\n",
        "      for i,row in enumerate(X):\n",
        "        self.X = row.reshape(1,9)\n",
        "        self.y = y[i].reshape(1,1)\n",
        "        yhat, loss = self._forward_prop()\n",
        "        self._backward_prop(yhat)\n",
        "\n",
        "        if i%self.showloss == 0:\n",
        "          self.cost.append(loss)\n",
        "\n",
        "\n",
        "  def predict(self, X):\n",
        "    Z1 = X.dot(self.params['W1']) + self.params['b1']\n",
        "    A1 = self._relu(Z1)\n",
        "    Z2 = A1.dot(self.params['W2']) + self.params['b2']\n",
        "    pred = self._sigmoid(Z2)\n",
        "    return np.round(pred)\n",
        "\n",
        "\n",
        "  def plot_loss(self):\n",
        "    plt.plot(self.cost)\n",
        "    plt.title(f\"Loss curve for {self.iterations} iterations\")\n",
        "    plt.xlabel(\"iterations\")\n",
        "    plt.ylabel(\"loss\")\n",
        "    plt.show()\n",
        "\n",
        "\n",
        "  def accuracy(self, y, yhat):\n",
        "    return int(sum((y == yhat) ) / len(y) * 100)\n",
        "\n",
        "  "
      ],
      "execution_count": 0,
      "outputs": []
    },
    {
      "cell_type": "code",
      "metadata": {
        "id": "l9ZChE8BsySL",
        "colab_type": "code",
        "colab": {}
      },
      "source": [
        "mynetsgd = NeuralNetSGD(layers=[9,8,1], showloss=50)\n",
        "mynetsgd.fit(Xtrain, ytrain)\n",
        "pred = mynetsgd.predict(Xtest)"
      ],
      "execution_count": 0,
      "outputs": []
    },
    {
      "cell_type": "code",
      "metadata": {
        "id": "5C4gk-V8s4kQ",
        "colab_type": "code",
        "outputId": "ca33411f-c2e1-4930-ec87-154c58a5cd3a",
        "colab": {
          "base_uri": "https://localhost:8080/",
          "height": 295
        }
      },
      "source": [
        "mynetsgd.plot_loss()"
      ],
      "execution_count": 0,
      "outputs": [
        {
          "output_type": "display_data",
          "data": {
            "image/png": "[encoded data removed]",
            "text/plain": [
              "<Figure size 432x288 with 1 Axes>"
            ]
          },
          "metadata": {
            "tags": []
          }
        }
      ]
    },
    {
      "cell_type": "code",
      "metadata": {
        "id": "BI_YP5LswPaV",
        "colab_type": "code",
        "outputId": "498295b9-70d2-4cda-ddb0-d2953e1a8198",
        "colab": {
          "base_uri": "https://localhost:8080/",
          "height": 35
        }
      },
      "source": [
        "mynetsgd.accuracy(pred, ytest)"
      ],
      "execution_count": 0,
      "outputs": [
        {
          "output_type": "execute_result",
          "data": {
            "text/plain": [
              "95"
            ]
          },
          "metadata": {
            "tags": []
          },
          "execution_count": 41
        }
      ]
    }
  ]
}